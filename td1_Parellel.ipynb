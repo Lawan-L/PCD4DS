{
  "nbformat": 4,
  "nbformat_minor": 0,
  "metadata": {
    "colab": {
      "name": "td1_Parellel.ipynb",
      "provenance": [],
      "authorship_tag": "ABX9TyPwLmsfJFwu8FtGn67IU3jR",
      "include_colab_link": true
    },
    "kernelspec": {
      "name": "ir",
      "display_name": "R"
    }
  },
  "cells": [
    {
      "cell_type": "markdown",
      "metadata": {
        "id": "view-in-github",
        "colab_type": "text"
      },
      "source": [
        "<a href=\"https://colab.research.google.com/github/lawan94/R_projects/blob/master/td1_Parellel.ipynb\" target=\"_parent\"><img src=\"https://colab.research.google.com/assets/colab-badge.svg\" alt=\"Open In Colab\"/></a>"
      ]
    },
    {
      "cell_type": "code",
      "metadata": {
        "id": "XaKgF80amDoM",
        "colab_type": "code",
        "colab": {
          "base_uri": "https://localhost:8080/",
          "height": 717
        },
        "outputId": "09ef897a-68e1-456e-e64d-4dfae2b44369"
      },
      "source": [
        "##Desc : Master2 data mining / Parallel \n",
        "\n",
        "\n",
        "#1\n",
        "#abs(x-3) n'est pas dérivable en 3\n",
        "\n",
        "sin_x <- function(x){\n",
        "  return (sin(x)**2 + sqrt(abs(x-3)))\n",
        "}\n",
        "\n",
        "#2 [-6, 4]\n",
        "x_axis = -6 : 4\n",
        "y_axis = sin_x(x_axis)\n",
        "#2 courbe\n",
        "#plot(x_axis, y_axis, col = \"red\", main=\"sinus carré\", lwd=2)\n",
        "# ou \n",
        "#curve(sin_x, from=-6, to = 4, lwd=2)\n",
        "#abline(h = min$objective, col=\"green\", lwd=3)\n",
        "#abline(h = max$objective, col=\"green\", lwd=3)\n",
        "\n",
        "#grid(lty=1) ou xlim\n",
        "\n",
        "3#integral\n",
        "print(integrate(sin_x, lower=-6, upper=4))\n",
        "print(\"le min de f est \")\n",
        "interval = -6:4\n",
        "min = optimize(sin_x, interval, lower = min(interval), upper = max(interval),\n",
        "         maximum = FALSE,\n",
        "         tol = .Machine$double.eps^0.25)\n",
        "max = optimize(sin_x, interval, lower = min(interval), upper = max(interval),\n",
        "         maximum = T,\n",
        "         tol = .Machine$double.eps^0.25)\n",
        "\n",
        "curve(sin_x, from=-6, to = 4, lwd=2)\n",
        "abline(h = min$objective, col=\"green\", lwd=3)\n",
        "abline(h = max$objective, col=\"violet\", lwd=3)\n",
        "# et le minimu est \n",
        "c(\"le minimum est alors\", min, \"le max est\", max)\n",
        "#y =table(-6:4)\n",
        "#print(y[which(y==)])\n",
        "#non car\n",
        "\n"
      ],
      "execution_count": 46,
      "outputs": [
        {
          "output_type": "display_data",
          "data": {
            "text/plain": [
              "[1] 3"
            ],
            "text/latex": "3",
            "text/markdown": "3",
            "text/html": [
              "3"
            ]
          },
          "metadata": {
            "tags": []
          }
        },
        {
          "output_type": "stream",
          "text": [
            "23.55348 with absolute error < 0.0011\n",
            "[1] \"le min de f est \"\n"
          ],
          "name": "stdout"
        },
        {
          "output_type": "display_data",
          "data": {
            "text/plain": [
              "[[1]]\n",
              "[1] \"le minimu est alors\"\n",
              "\n",
              "$minimum\n",
              "[1] 0.1503517\n",
              "\n",
              "$objective\n",
              "[1] 1.710526\n",
              "\n",
              "[[4]]\n",
              "[1] \"le max est\"\n",
              "\n",
              "$maximum\n",
              "[1] -1.687315\n",
              "\n",
              "$objective\n",
              "[1] 3.151506\n"
            ],
            "text/latex": "\\begin{description}\n\\item[{[[1]]}] 'le minimu est alors'\n\\item[\\$minimum] 0.150351652973502\n\\item[\\$objective] 1.71052594190316\n\\item[{[[4]]}] 'le max est'\n\\item[\\$maximum] -1.68731476247468\n\\item[\\$objective] 3.15150551416408\n\\end{description}\n",
            "text/markdown": "[[1]]\n:   'le minimu est alors'\n$minimum\n:   0.150351652973502\n$objective\n:   1.71052594190316\n[[4]]\n:   'le max est'\n$maximum\n:   -1.68731476247468\n$objective\n:   3.15150551416408\n\n\n",
            "text/html": [
              "<dl>\n",
              "\t<dt>[[1]]</dt>\n",
              "\t\t<dd>'le minimu est alors'</dd>\n",
              "\t<dt>$minimum</dt>\n",
              "\t\t<dd>0.150351652973502</dd>\n",
              "\t<dt>$objective</dt>\n",
              "\t\t<dd>1.71052594190316</dd>\n",
              "\t<dt>[[4]]</dt>\n",
              "\t\t<dd>'le max est'</dd>\n",
              "\t<dt>$maximum</dt>\n",
              "\t\t<dd>-1.68731476247468</dd>\n",
              "\t<dt>$objective</dt>\n",
              "\t\t<dd>3.15150551416408</dd>\n",
              "</dl>\n"
            ]
          },
          "metadata": {
            "tags": []
          }
        },
        {
          "output_type": "display_data",
          "data": {
            "image/png": "[encoded data removed]",
            "text/plain": [
              "plot without title"
            ]
          },
          "metadata": {
            "tags": [],
            "image/png": {
              "width": 420,
              "height": 420
            }
          }
        }
      ]
    },
    {
      "cell_type": "code",
      "metadata": {
        "id": "s_3Bp7_O16-X",
        "colab_type": "code",
        "colab": {
          "base_uri": "https://localhost:8080/",
          "height": 134
        },
        "outputId": "1d4c387f-fce5-4162-f385-1f9cd1c6cf11"
      },
      "source": [
        "#3 PROBLEME\n",
        "\n",
        "#1 \n",
        "simuData <- function(n) rnorm(n)\n",
        "set.seed(1234)\n",
        "y = simuData(10)\n",
        "z= 2\n",
        "#2\n",
        "perte <- function(s, y, p){\n",
        "  return (sum(abs(s-y)^p)^1/p)\n",
        "}\n",
        "perte(2, y, 2)\n",
        "\n",
        "my_interval = min(y) :  max(y)\n",
        "p1 = 1\n",
        "p2 = 2\n",
        "p3 = 5\n",
        "p4 = 1/2\n",
        "\n",
        "\n",
        "\n",
        "xmin_1 <- optimize(perte, my_interval, maximum = F,tol = 0.0001, y, p1)\n",
        "xmin_2 <- optimize(perte, my_interval, maximum = F,tol = 0.0001, y, p2)\n",
        "xmin_5 <- optimize(perte, my_interval, maximum = F,tol = 0.0001, y, p3)\n",
        "xmin_1_ <- optimize(perte, my_interval, maximum = F,tol = 0.0001, y, p4)\n",
        "\n",
        "print(paste(\"le min de p2 est\", xmin_2))\n",
        "print(paste('alors que mean(y) =',mean(y)))\n",
        "#ou bien\n",
        "for (p in c(1, 2, 5, 1/2)){\n",
        "  print(paste(\"begin computation for p =\", p))\n",
        "\n",
        "}\n",
        "\n",
        "#perte1 = \n",
        "#curve(perte, from=-6, to = 4, lwd=2)\n",
        "#abline(h = xmin_1$objective, col=\"green\", lwd=3)\n",
        "#abline(h = max$objective, col=\"violet\", lwd=3)\n",
        "\n",
        "#"
      ],
      "execution_count": 10,
      "outputs": [
        {
          "output_type": "display_data",
          "data": {
            "text/plain": [
              "[1] 32.85936"
            ],
            "text/latex": "32.8593639196183",
            "text/markdown": "32.8593639196183",
            "text/html": [
              "32.8593639196183"
            ]
          },
          "metadata": {
            "tags": []
          }
        },
        {
          "output_type": "stream",
          "text": [
            "[1] \"le min de p2 est -0.383157409630865\" \"le min de p2 est 4.46216772422582\"  \n",
            "[1] \"alors que mean(y) = -0.383157409630865\"\n",
            "[1] \"begin computation for p = 1\"\n",
            "[1] \"begin computation for p = 2\"\n",
            "[1] \"begin computation for p = 5\"\n",
            "[1] \"begin computation for p = 0.5\"\n"
          ],
          "name": "stdout"
        }
      ]
    },
    {
      "cell_type": "code",
      "metadata": {
        "id": "ZY-LAI2i3WbD",
        "colab_type": "code",
        "colab": {}
      },
      "source": [
        ""
      ],
      "execution_count": null,
      "outputs": []
    }
  ]
}